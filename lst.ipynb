{
 "cells": [
  {
   "cell_type": "code",
   "execution_count": 1,
   "metadata": {},
   "outputs": [
    {
     "name": "stdout",
     "output_type": "stream",
     "text": [
      "hello\n"
     ]
    }
   ],
   "source": [
    "print(\"hello\")\n"
   ]
  },
  {
   "cell_type": "code",
   "execution_count": 6,
   "metadata": {},
   "outputs": [
    {
     "name": "stdout",
     "output_type": "stream",
     "text": [
      "['red', 'yellow', 'green']\n"
     ]
    }
   ],
   "source": [
    "lst=[\"red\",\"yellow\",\"green\"]\n",
    "#lst.clear()       #clear method clear the data only inside parenthises\n",
    "print(lst)"
   ]
  },
  {
   "cell_type": "code",
   "execution_count": 7,
   "metadata": {},
   "outputs": [
    {
     "data": {
      "text/plain": [
       "['red', 'yellow', 'green']"
      ]
     },
     "execution_count": 7,
     "metadata": {},
     "output_type": "execute_result"
    }
   ],
   "source": [
    "lst2=lst.copy()\n",
    "lst2"
   ]
  },
  {
   "cell_type": "code",
   "execution_count": null,
   "metadata": {},
   "outputs": [],
   "source": [
    "#in list count single element as like red is single element whereas in string count single character as like r,d,e"
   ]
  },
  {
   "cell_type": "code",
   "execution_count": 8,
   "metadata": {},
   "outputs": [
    {
     "data": {
      "text/plain": [
       "1"
      ]
     },
     "execution_count": 8,
     "metadata": {},
     "output_type": "execute_result"
    }
   ],
   "source": [
    "lst.count(\"green\")"
   ]
  },
  {
   "cell_type": "code",
   "execution_count": null,
   "metadata": {},
   "outputs": [
    {
     "data": {
      "text/plain": [
       "['red',\n",
       " 'yellow',\n",
       " 'green',\n",
       " 'pink',\n",
       " 'orange',\n",
       " 'pink',\n",
       " 'orange',\n",
       " 'pink',\n",
       " 'orange',\n",
       " 'pink',\n",
       " 'orange',\n",
       " 'pink',\n",
       " 'orange',\n",
       " 'pink',\n",
       " 'orange']"
      ]
     },
     "execution_count": 14,
     "metadata": {},
     "output_type": "execute_result"
    }
   ],
   "source": [
    "lst.extend([\"pink\",\"orange\"])     #add the things as list\n",
    "lst"
   ]
  },
  {
   "cell_type": "code",
   "execution_count": null,
   "metadata": {},
   "outputs": [
    {
     "data": {
      "text/plain": [
       "0"
      ]
     },
     "execution_count": 15,
     "metadata": {},
     "output_type": "execute_result"
    }
   ],
   "source": [
    "lst.index(\"red\")     #return first index value"
   ]
  },
  {
   "cell_type": "code",
   "execution_count": null,
   "metadata": {},
   "outputs": [
    {
     "data": {
      "text/plain": [
       "['red',\n",
       " 'yellow',\n",
       " 'green',\n",
       " 'pink',\n",
       " 'orange',\n",
       " 'pink',\n",
       " 'orange',\n",
       " 'pink',\n",
       " 'orange',\n",
       " 'pink',\n",
       " 'orange',\n",
       " 'pink',\n",
       " 'orange',\n",
       " 'pink',\n",
       " 'orange',\n",
       " 'ball']"
      ]
     },
     "execution_count": 16,
     "metadata": {},
     "output_type": "execute_result"
    }
   ],
   "source": [
    "lst.append(\"ball\")   #add the things in end of list as single value no need to make list\n",
    "lst"
   ]
  },
  {
   "cell_type": "code",
   "execution_count": null,
   "metadata": {},
   "outputs": [
    {
     "data": {
      "text/plain": [
       "['ball',\n",
       " 'red',\n",
       " 'yellow',\n",
       " 'green',\n",
       " 'pink',\n",
       " 'orange',\n",
       " 'pink',\n",
       " 'orange',\n",
       " 'pink',\n",
       " 'orange',\n",
       " 'pink',\n",
       " 'orange',\n",
       " 'pink',\n",
       " 'orange',\n",
       " 'pink',\n",
       " 'orange',\n",
       " 'ball']"
      ]
     },
     "execution_count": 17,
     "metadata": {},
     "output_type": "execute_result"
    }
   ],
   "source": [
    "lst.insert(0,\"ball\")      #insert any things where in between etc\n",
    "lst"
   ]
  },
  {
   "cell_type": "code",
   "execution_count": null,
   "metadata": {},
   "outputs": [
    {
     "data": {
      "text/plain": [
       "['ball',\n",
       " 'red',\n",
       " 'yellow',\n",
       " 'green',\n",
       " 'pink',\n",
       " 'orange',\n",
       " 'pink',\n",
       " 'orange',\n",
       " 'pink',\n",
       " 'orange',\n",
       " 'pink',\n",
       " 'orange',\n",
       " 'pink',\n",
       " 'orange',\n",
       " 'pink',\n",
       " 'orange']"
      ]
     },
     "execution_count": 18,
     "metadata": {},
     "output_type": "execute_result"
    }
   ],
   "source": [
    "lst.pop()    #pop kind of remove the things if empty bracket is remove last things in last\n",
    "lst"
   ]
  },
  {
   "cell_type": "code",
   "execution_count": null,
   "metadata": {},
   "outputs": [
    {
     "data": {
      "text/plain": [
       "['ball',\n",
       " 'red',\n",
       " 'yellow',\n",
       " 'green',\n",
       " 'orange',\n",
       " 'pink',\n",
       " 'orange',\n",
       " 'pink',\n",
       " 'orange',\n",
       " 'pink',\n",
       " 'orange',\n",
       " 'pink',\n",
       " 'orange',\n",
       " 'pink',\n",
       " 'orange']"
      ]
     },
     "execution_count": 19,
     "metadata": {},
     "output_type": "execute_result"
    }
   ],
   "source": [
    "lst.pop(4)    #pop also remove index value things\n",
    "lst"
   ]
  },
  {
   "cell_type": "code",
   "execution_count": null,
   "metadata": {},
   "outputs": [
    {
     "data": {
      "text/plain": [
       "['ball',\n",
       " 'yellow',\n",
       " 'green',\n",
       " 'orange',\n",
       " 'pink',\n",
       " 'orange',\n",
       " 'pink',\n",
       " 'orange',\n",
       " 'pink',\n",
       " 'orange',\n",
       " 'pink',\n",
       " 'orange',\n",
       " 'pink',\n",
       " 'orange']"
      ]
     },
     "execution_count": 20,
     "metadata": {},
     "output_type": "execute_result"
    }
   ],
   "source": [
    "lst.remove(\"red\")    #remove the item but first occurence item\n",
    "lst"
   ]
  },
  {
   "cell_type": "code",
   "execution_count": null,
   "metadata": {},
   "outputs": [
    {
     "data": {
      "text/plain": [
       "['orange',\n",
       " 'pink',\n",
       " 'orange',\n",
       " 'pink',\n",
       " 'orange',\n",
       " 'pink',\n",
       " 'orange',\n",
       " 'pink',\n",
       " 'orange',\n",
       " 'pink',\n",
       " 'orange',\n",
       " 'green',\n",
       " 'yellow',\n",
       " 'ball']"
      ]
     },
     "execution_count": 22,
     "metadata": {},
     "output_type": "execute_result"
    }
   ],
   "source": [
    "#1 method \n",
    "# lst.reverse()       #for reverse use double colon also\n",
    "\n",
    "#2 method \n",
    "# lst[::-1]\n",
    "lst"
   ]
  },
  {
   "cell_type": "code",
   "execution_count": null,
   "metadata": {},
   "outputs": [
    {
     "data": {
      "text/plain": [
       "['yellow',\n",
       " 'pink',\n",
       " 'pink',\n",
       " 'pink',\n",
       " 'pink',\n",
       " 'pink',\n",
       " 'orange',\n",
       " 'orange',\n",
       " 'orange',\n",
       " 'orange',\n",
       " 'orange',\n",
       " 'orange',\n",
       " 'green',\n",
       " 'ball']"
      ]
     },
     "execution_count": 24,
     "metadata": {},
     "output_type": "execute_result"
    }
   ],
   "source": [
    "lst.sort()     #sort give item as ascending and decsending order thats for ascending\n",
    "lst\n",
    "lst.sort(reverse=True)    #for decending order\n",
    "lst"
   ]
  },
  {
   "cell_type": "code",
   "execution_count": 25,
   "metadata": {},
   "outputs": [
    {
     "data": {
      "text/plain": [
       "'pink'"
      ]
     },
     "execution_count": 25,
     "metadata": {},
     "output_type": "execute_result"
    }
   ],
   "source": [
    "#list feature-- multiple data store ,duplicate value store, changable(mutuble),list items are ordered, indexing,slicing\n",
    "\n",
    "#accessing added value\n",
    "lst[3]"
   ]
  },
  {
   "cell_type": "code",
   "execution_count": 29,
   "metadata": {},
   "outputs": [
    {
     "data": {
      "text/plain": [
       "['yellow',\n",
       " 'pink',\n",
       " 'a',\n",
       " 'a',\n",
       " 'b',\n",
       " 'pink',\n",
       " 'orange',\n",
       " 'orange',\n",
       " 'orange',\n",
       " 'orange',\n",
       " 'orange',\n",
       " 'orange',\n",
       " 'green',\n",
       " 'ball']"
      ]
     },
     "execution_count": 29,
     "metadata": {},
     "output_type": "execute_result"
    }
   ],
   "source": [
    "#lst[3]=\"gulabi\"     #change the item pink to gulabi only index value 3\n",
    "#lst\n",
    "#lst[2:5]=[\"a\",\"b\",\"c\"]      #change multiple item\n",
    "#lst\n",
    "#lst[2:5]=[\"a\",\"b\"]\n",
    "#lst\n",
    "lst[3:4]=[\"a\",\"b\"]\n",
    "lst"
   ]
  },
  {
   "cell_type": "code",
   "execution_count": null,
   "metadata": {},
   "outputs": [],
   "source": []
  }
 ],
 "metadata": {
  "kernelspec": {
   "display_name": "Python 3",
   "language": "python",
   "name": "python3"
  },
  "language_info": {
   "codemirror_mode": {
    "name": "ipython",
    "version": 3
   },
   "file_extension": ".py",
   "mimetype": "text/x-python",
   "name": "python",
   "nbconvert_exporter": "python",
   "pygments_lexer": "ipython3",
   "version": "3.13.1"
  }
 },
 "nbformat": 4,
 "nbformat_minor": 2
}
