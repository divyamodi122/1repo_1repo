{
 "cells": [
  {
   "cell_type": "code",
   "execution_count": null,
   "metadata": {},
   "outputs": [],
   "source": [
    "#dictionary-- oderred ,mutuable,dont allow duplicate\n",
    "#key-value pair"
   ]
  },
  {
   "cell_type": "code",
   "execution_count": null,
   "metadata": {},
   "outputs": [
    {
     "name": "stdout",
     "output_type": "stream",
     "text": [
      "{'name': 'divya', 'age': 25, 'coaching': 'upflairs'}\n",
      "<class 'dict'>\n"
     ]
    }
   ],
   "source": [
    "dt={\n",
    "\"name\": \"divya\",\n",
    "\"age\":25,\n",
    "\"coaching\":\"upflairs\"\n",
    "\n",
    "\n",
    "\n",
    "} \n",
    "print(dt)\n",
    "print(type(dt))"
   ]
  },
  {
   "cell_type": "code",
   "execution_count": 4,
   "metadata": {},
   "outputs": [
    {
     "data": {
      "text/plain": [
       "{'name': 'divya', 'age': 25, 'coaching': 'xyz'}"
      ]
     },
     "execution_count": 4,
     "metadata": {},
     "output_type": "execute_result"
    }
   ],
   "source": [
    "#accessing by keys not by number\n",
    "dt[\"coaching\"]\n",
    "dt[\"coaching\"]=\"xyz\"\n",
    "dt"
   ]
  },
  {
   "cell_type": "code",
   "execution_count": 16,
   "metadata": {},
   "outputs": [
    {
     "name": "stdout",
     "output_type": "stream",
     "text": [
      "{'name': 'divya', 'age': 25, 'coaching': 'upflairs', 'year': 2000}\n",
      "<class 'dict'>\n"
     ]
    }
   ],
   "source": [
    "dt1={\n",
    "\"name\": \"divya\",\n",
    "\"age\":25,\n",
    "\"coaching\":\"upflairs\",\n",
    "\"year\":1998,\n",
    "\"year\":2000            #duplicate key overrite the value and take last one\n",
    "\n",
    "\n",
    "\n",
    "\n",
    "}\n",
    "print(dt1)\n",
    "print(type(dt1)) "
   ]
  },
  {
   "cell_type": "code",
   "execution_count": null,
   "metadata": {},
   "outputs": [
    {
     "data": {
      "text/plain": [
       "4"
      ]
     },
     "execution_count": 8,
     "metadata": {},
     "output_type": "execute_result"
    }
   ],
   "source": [
    "len(dt1)"
   ]
  },
  {
   "cell_type": "code",
   "execution_count": null,
   "metadata": {},
   "outputs": [
    {
     "data": {
      "text/plain": [
       "'divya'"
      ]
     },
     "execution_count": 12,
     "metadata": {},
     "output_type": "execute_result"
    }
   ],
   "source": [
    "#methods\n",
    "dt1.keys()\n",
    "dt1.items()     #keys and value both\n",
    "dt1.values()\n",
    "dt1.get(\"name\")\n"
   ]
  },
  {
   "cell_type": "code",
   "execution_count": null,
   "metadata": {},
   "outputs": [
    {
     "data": {
      "text/plain": [
       "('year', 2000)"
      ]
     },
     "execution_count": 15,
     "metadata": {},
     "output_type": "execute_result"
    }
   ],
   "source": [
    "#dt1.pop(\"name\")     #pop delete the value give key name\n",
    "dt1.popitem()     #last key or value delete automatic"
   ]
  },
  {
   "cell_type": "code",
   "execution_count": null,
   "metadata": {},
   "outputs": [
    {
     "name": "stdout",
     "output_type": "stream",
     "text": [
      "{'name': 'jai', 'age': 25, 'coaching': 'upflairs', 'year': 2000}\n"
     ]
    }
   ],
   "source": [
    "dt1.update({\"name\":\"jai\"})       #update for change value\n",
    "print(dt1)"
   ]
  },
  {
   "cell_type": "code",
   "execution_count": null,
   "metadata": {},
   "outputs": [
    {
     "name": "stdout",
     "output_type": "stream",
     "text": [
      "{'name': 'jai', 'age': 25, 'coaching': 'upflairs', 'year': 2000, 'city': 'jaipur'}\n",
      "{'name': 'jai', 'age': 25, 'coaching': 'upflairs', 'year': 2000, 'city': 'jaipur'}\n",
      "{'name': 'jai', 'age': 25, 'coaching': 'upflairs', 'year': 2000, 'city': 'jaipur'}\n"
     ]
    }
   ],
   "source": [
    "dt1.setdefault(\"city\",\"jaipur\")      #set by default whaterver the value give never change\n",
    "print(dt1)\n",
    "dt1.setdefault(\"city\",\"bikaner\")\n",
    "print(dt1)\n",
    "dt1.setdefault(\"age\",30)\n",
    "print(dt1)"
   ]
  },
  {
   "cell_type": "code",
   "execution_count": null,
   "metadata": {},
   "outputs": [
    {
     "name": "stdout",
     "output_type": "stream",
     "text": [
      "{'key1': ('a', 'b', 'c'), 'key2': ('a', 'b', 'c'), 'key3': ('a', 'b', 'c')}\n"
     ]
    }
   ],
   "source": [
    "x=(\"key1\",\"key2\",\"key3\")\n",
    "# y=0\n",
    "y= (\"a\",\"b\",\"c\")\n",
    "dt3=dict.fromkeys(x,y)       #multiple value \n",
    "print(dt3)"
   ]
  },
  {
   "cell_type": "code",
   "execution_count": null,
   "metadata": {},
   "outputs": [
    {
     "name": "stdout",
     "output_type": "stream",
     "text": [
      "{'name': ['divya', 'jai', 'pyq'], 'age': 25, 'coaching': 'upflairs'}\n",
      "<class 'dict'>\n"
     ]
    }
   ],
   "source": [
    "dt={\n",
    "\"name\": [\"divya\",\"jai\",\"pyq\"],    #multipkle values give use list ,tuple,set,dict\n",
    "\"age\":25,\n",
    "\"coaching\":\"upflairs\"\n",
    "\n",
    "\n",
    "\n",
    "} \n",
    "print(dt)\n",
    "print(type(dt))"
   ]
  },
  {
   "cell_type": "code",
   "execution_count": null,
   "metadata": {},
   "outputs": [],
   "source": []
  },
  {
   "cell_type": "code",
   "execution_count": null,
   "metadata": {},
   "outputs": [],
   "source": []
  },
  {
   "cell_type": "code",
   "execution_count": null,
   "metadata": {},
   "outputs": [],
   "source": []
  }
 ],
 "metadata": {
  "kernelspec": {
   "display_name": "Python 3",
   "language": "python",
   "name": "python3"
  },
  "language_info": {
   "codemirror_mode": {
    "name": "ipython",
    "version": 3
   },
   "file_extension": ".py",
   "mimetype": "text/x-python",
   "name": "python",
   "nbconvert_exporter": "python",
   "pygments_lexer": "ipython3",
   "version": "3.13.1"
  }
 },
 "nbformat": 4,
 "nbformat_minor": 2
}
