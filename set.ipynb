{
 "cells": [
  {
   "cell_type": "code",
   "execution_count": null,
   "metadata": {},
   "outputs": [],
   "source": [
    "#set-- unordered collection of multiple item having differnt datatype, unchangable \n",
    "#donot contain duplicate item,unindexed"
   ]
  },
  {
   "cell_type": "code",
   "execution_count": 23,
   "metadata": {},
   "outputs": [
    {
     "name": "stdout",
     "output_type": "stream",
     "text": [
      "{1, 2, 3, 4, 5, 'hello', 5.66}\n",
      "<class 'set'>\n"
     ]
    },
    {
     "data": {
      "text/plain": [
       "7"
      ]
     },
     "execution_count": 23,
     "metadata": {},
     "output_type": "execute_result"
    }
   ],
   "source": [
    "st={1,2,3,4,5,True,\"hello\",5.66}        #true and 1 count both only one so give only one element dont give duplicate\n",
    "print(st)\n",
    "print(type(st))\n",
    "#even in false and 0\n",
    "len(st)      #follow tple,set,str also"
   ]
  },
  {
   "cell_type": "code",
   "execution_count": null,
   "metadata": {},
   "outputs": [
    {
     "name": "stdout",
     "output_type": "stream",
     "text": [
      "{'hello', 5.66, 4, 5}\n",
      "{5, 'hello', 5.66}\n",
      "{'hello', 5.66}\n",
      "{'hello'}\n"
     ]
    }
   ],
   "source": [
    "#methods--clear copy pop remove\n",
    "# st2=st.copy()\n",
    "# print(st2)\n",
    "# st.pop()\n",
    "# print(st)\n",
    "# st.pop()       #remove random item\n",
    "# print(st)\n",
    "# st.remove(5.66)\n",
    "# print(st)"
   ]
  },
  {
   "cell_type": "code",
   "execution_count": 16,
   "metadata": {},
   "outputs": [
    {
     "name": "stdout",
     "output_type": "stream",
     "text": [
      "{2, 3, 4, 5, 'hello', 5.66}\n"
     ]
    }
   ],
   "source": [
    "st.remove(1)\n",
    "print(st)"
   ]
  },
  {
   "cell_type": "code",
   "execution_count": null,
   "metadata": {},
   "outputs": [
    {
     "name": "stdout",
     "output_type": "stream",
     "text": [
      "{1, 2, 3, 4, 5, 'hello', 5.66, 8, 9, 10, 7}\n"
     ]
    }
   ],
   "source": [
    "# st.discard(777)     #remove give error if element not in list but discard dont give error run the item\n",
    "# print(st)\n",
    "# st.add(777)    #add only add one argument\n",
    "# print(st) \n",
    "\n",
    "st\n",
    "st4={7,8,9,10}\n",
    "st.update(st4)     #multtiple argument add \n",
    "print(st)"
   ]
  },
  {
   "cell_type": "code",
   "execution_count": 26,
   "metadata": {},
   "outputs": [
    {
     "name": "stdout",
     "output_type": "stream",
     "text": [
      "{1, 2, 3, 4, 5, 6, 7}\n"
     ]
    }
   ],
   "source": [
    "#union-- return new set and remove duplicate\n",
    "set1={1,2,3,4,5}\n",
    "set2={4,5,6,7}\n",
    "result=set1.union(set2)\n",
    "print(result)"
   ]
  },
  {
   "cell_type": "code",
   "execution_count": null,
   "metadata": {},
   "outputs": [
    {
     "name": "stdout",
     "output_type": "stream",
     "text": [
      "{4, 5}\n",
      "{4, 5}\n",
      "{1, 2, 3}\n",
      "{1, 2, 3}\n",
      "{1, 2, 3, 6, 7}\n"
     ]
    }
   ],
   "source": [
    "#intersection-- return a new set with common selements ,using &\n",
    "result=set1.intersection(set2)\n",
    "print(result)\n",
    "print(set1 & set2)\n",
    "result=set1.difference(set2)     #return elemnt in set1 that are not in set2 and shortcut use minus\n",
    "print(result)\n",
    "print(set1-set2)\n",
    "\n",
    "#syemmetric_difference   return elemnt in either set,but not both\n",
    "result=set1.symmetric_difference(set2)\n",
    "print(result)"
   ]
  },
  {
   "cell_type": "code",
   "execution_count": 32,
   "metadata": {},
   "outputs": [
    {
     "name": "stdout",
     "output_type": "stream",
     "text": [
      "False\n"
     ]
    }
   ],
   "source": [
    "#comparing sets\n",
    "#issubset-- checks if all elemnts of one set exist in another\n",
    "result=set1.issubset(set2)\n",
    "print(result)"
   ]
  },
  {
   "cell_type": "code",
   "execution_count": 33,
   "metadata": {},
   "outputs": [
    {
     "name": "stdout",
     "output_type": "stream",
     "text": [
      "False\n"
     ]
    }
   ],
   "source": [
    "#issuperset-- checks if a set contains all elemnts of another set\n",
    "result=set1.issuperset(set2)\n",
    "print(result)"
   ]
  },
  {
   "cell_type": "code",
   "execution_count": 34,
   "metadata": {},
   "outputs": [
    {
     "name": "stdout",
     "output_type": "stream",
     "text": [
      "False\n"
     ]
    }
   ],
   "source": [
    "#isdisjoint-- if two sets haveno common elmnts\n",
    "result=set1.isdisjoint(set2)\n",
    "print(result)"
   ]
  },
  {
   "cell_type": "code",
   "execution_count": null,
   "metadata": {},
   "outputs": [],
   "source": []
  },
  {
   "cell_type": "code",
   "execution_count": null,
   "metadata": {},
   "outputs": [],
   "source": []
  },
  {
   "cell_type": "code",
   "execution_count": null,
   "metadata": {},
   "outputs": [],
   "source": []
  }
 ],
 "metadata": {
  "kernelspec": {
   "display_name": "Python 3",
   "language": "python",
   "name": "python3"
  },
  "language_info": {
   "codemirror_mode": {
    "name": "ipython",
    "version": 3
   },
   "file_extension": ".py",
   "mimetype": "text/x-python",
   "name": "python",
   "nbconvert_exporter": "python",
   "pygments_lexer": "ipython3",
   "version": "3.13.1"
  }
 },
 "nbformat": 4,
 "nbformat_minor": 2
}
