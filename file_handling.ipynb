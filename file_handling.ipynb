{
 "cells": [
  {
   "cell_type": "code",
   "execution_count": null,
   "metadata": {},
   "outputs": [],
   "source": [
    "#file handling modes---\n",
    "#r=readonly\n",
    "#w=writemode           #overwrite the existed code\n",
    "#a=append\n",
    "#b=binary file         \n",
    "# + = read and write dono \n"
   ]
  },
  {
   "cell_type": "code",
   "execution_count": 1,
   "metadata": {},
   "outputs": [
    {
     "name": "stdout",
     "output_type": "stream",
     "text": [
      "hello\n",
      "how are u jaijee\n",
      "jinda hai ap\n",
      "khisak to nhi gye\n",
      "\n"
     ]
    }
   ],
   "source": [
    "#read file\n",
    "file=open(\"demo.txt\",\"r\")\n",
    "print(file.read())\n",
    "file.close()"
   ]
  },
  {
   "cell_type": "code",
   "execution_count": null,
   "metadata": {},
   "outputs": [
    {
     "name": "stdout",
     "output_type": "stream",
     "text": [
      "hel\n",
      "lo\n",
      "\n",
      "['how are u jaijee\\n', 'jinda hai ap\\n', 'khisak to nhi gye\\n']\n"
     ]
    }
   ],
   "source": [
    "#with statment       #with statemnt main file ko apne ap open and close krta h close() use krne ki jrurt nhi\n",
    "with open(\"demo.txt\",\"r\") as file:\n",
    "    #print(file.read())\n",
    "    print(file.readline(3))      #read one by one line and if you give number thn print utne character\n",
    "    print(file.readline())\n",
    "    print(file.readlines())      #read sare line list formate main"
   ]
  },
  {
   "cell_type": "code",
   "execution_count": null,
   "metadata": {},
   "outputs": [],
   "source": [
    "#with open(\"demo.txt\",\"w\") as file:       #write overrite the exixted code\n",
    "with open(\"test.txt\",\"w\") as file:\n",
    "    file.write(\"hello jai jee ap thik hai ya nhi hai\")"
   ]
  },
  {
   "cell_type": "code",
   "execution_count": null,
   "metadata": {},
   "outputs": [],
   "source": [
    "with open(\"test.txt\",\"a\") as file:\n",
    "    file.writelines(\"muje is dharti pe nahi rehana chiyan tha ma kyu ayee is duniya per\\n\")"
   ]
  },
  {
   "cell_type": "code",
   "execution_count": 5,
   "metadata": {},
   "outputs": [
    {
     "name": "stdout",
     "output_type": "stream",
     "text": [
      "hello kyu ho ap is dharti pe jai jee \n",
      "\n"
     ]
    }
   ],
   "source": [
    "with open(\"test.txt\",\"r+\") as file:\n",
    "    file.write(\"hello kyu ho ap is dharti pe jai jee \\n\")\n",
    "    file.seek(0)       #move the position of pointer to begining and any place\n",
    "    print(file.read())\n"
   ]
  },
  {
   "cell_type": "code",
   "execution_count": null,
   "metadata": {},
   "outputs": [],
   "source": []
  }
 ],
 "metadata": {
  "kernelspec": {
   "display_name": "Python 3",
   "language": "python",
   "name": "python3"
  },
  "language_info": {
   "codemirror_mode": {
    "name": "ipython",
    "version": 3
   },
   "file_extension": ".py",
   "mimetype": "text/x-python",
   "name": "python",
   "nbconvert_exporter": "python",
   "pygments_lexer": "ipython3",
   "version": "3.13.1"
  }
 },
 "nbformat": 4,
 "nbformat_minor": 2
}
