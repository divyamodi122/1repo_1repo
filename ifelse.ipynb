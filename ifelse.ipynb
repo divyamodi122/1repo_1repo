{
 "cells": [
  {
   "cell_type": "code",
   "execution_count": null,
   "metadata": {},
   "outputs": [],
   "source": [
    "#conditional statment in python--if else elif statement\n",
    "#if and alif run on condition but else run by statement which not run by if and elif\n",
    "#we can have else without elif"
   ]
  },
  {
   "cell_type": "code",
   "execution_count": null,
   "metadata": {},
   "outputs": [
    {
     "name": "stdout",
     "output_type": "stream",
     "text": [
      "b is greater than a\n"
     ]
    }
   ],
   "source": [
    "a=85\n",
    "b=80\n",
    "#if a>b:         #false statment give nothing \n",
    "if not a>b:     #reverse the statemnt\n",
    "    print(\"a is greater than b\")      #indentation/space\n",
    "\n",
    "#elif a==b:\n",
    "    print(\"a is equal to b\")    \n",
    "else:\n",
    "    print(\"b is greater than a\")  "
   ]
  },
  {
   "cell_type": "code",
   "execution_count": null,
   "metadata": {},
   "outputs": [
    {
     "name": "stdout",
     "output_type": "stream",
     "text": [
      "55356\n",
      "<class 'int'>\n"
     ]
    }
   ],
   "source": [
    "#user se input lena\n",
    "#num=(input(\"enter a number\"))\n",
    "num=int(input(\"enter a number\"))      #datatype change karna\n",
    "print(num)\n",
    "print(type(num))"
   ]
  },
  {
   "cell_type": "code",
   "execution_count": 9,
   "metadata": {},
   "outputs": [
    {
     "name": "stdout",
     "output_type": "stream",
     "text": [
      "<class 'float'>\n",
      "12\n",
      "<class 'int'>\n"
     ]
    }
   ],
   "source": [
    "#type casting-- which is use for change datatype\n",
    "a=12.45\n",
    "print(type(a))\n",
    "b=int(a)\n",
    "print(b)\n",
    "print(type(b))"
   ]
  },
  {
   "cell_type": "code",
   "execution_count": null,
   "metadata": {},
   "outputs": [
    {
     "name": "stdout",
     "output_type": "stream",
     "text": [
      "number is even\n"
     ]
    }
   ],
   "source": [
    "num=int(input(\"enter a number\"))\n",
    "if num % 2==0:                       ##odd even condtion use this statment\n",
    "    print(\"number is even\")\n",
    "else:\n",
    "    print(\"number is odd\")"
   ]
  },
  {
   "cell_type": "code",
   "execution_count": 13,
   "metadata": {},
   "outputs": [
    {
     "name": "stdout",
     "output_type": "stream",
     "text": [
      "number is even\n"
     ]
    }
   ],
   "source": [
    "num=int(input(\"enter a number\"))\n",
    "#if num % 2==0 and num > 10:\n",
    "if num % 2==0 or num > 12:\n",
    "    print(\"number is even\")\n",
    "else:\n",
    "    print(\"number is odd\")"
   ]
  },
  {
   "cell_type": "code",
   "execution_count": 16,
   "metadata": {},
   "outputs": [
    {
     "name": "stdout",
     "output_type": "stream",
     "text": [
      "found\n"
     ]
    }
   ],
   "source": [
    "fruit=input(\"enter a number\")\n",
    "if fruit == \"apple\":\n",
    "    print(\"found\")\n",
    "else:\n",
    "    print(\"not found\")    "
   ]
  },
  {
   "cell_type": "code",
   "execution_count": 22,
   "metadata": {},
   "outputs": [
    {
     "name": "stdout",
     "output_type": "stream",
     "text": [
      "found\n"
     ]
    }
   ],
   "source": [
    "number=[1,2,3,4,5]\n",
    "if 3 in number:\n",
    "    print(\"found\")\n",
    "else:\n",
    "    print(\"not found\")    \n",
    "\n"
   ]
  },
  {
   "cell_type": "code",
   "execution_count": null,
   "metadata": {},
   "outputs": [
    {
     "name": "stdout",
     "output_type": "stream",
     "text": [
      "a is greater than b\n",
      "b\n"
     ]
    }
   ],
   "source": [
    "#shorthand if else\n",
    "if a>b: print(\"a is greater than b\")   #if\n",
    "\n",
    "a=89\n",
    "b=90\n",
    "print(\"a\") if a>b else print(\"b\")    #else"
   ]
  },
  {
   "cell_type": "code",
   "execution_count": 25,
   "metadata": {},
   "outputs": [
    {
     "name": "stdout",
     "output_type": "stream",
     "text": [
      "b is greater than a and c\n"
     ]
    }
   ],
   "source": [
    "#nested if else statment which means if ke ander if ki condition check\n",
    "a=90\n",
    "b=90\n",
    "c=90\n",
    "if a>b:\n",
    "    if a>c:\n",
    "        print(\"a is greater than b and c\")\n",
    "    else:\n",
    "        print(\"a is greater than b but less than c\")\n",
    "else:\n",
    "    print(\"b is greater than a and c\")            "
   ]
  },
  {
   "cell_type": "code",
   "execution_count": 26,
   "metadata": {},
   "outputs": [],
   "source": [
    "#pass-- incomplete code run without error\n",
    "if a>b:\n",
    "    pass"
   ]
  },
  {
   "cell_type": "code",
   "execution_count": 29,
   "metadata": {},
   "outputs": [
    {
     "name": "stdout",
     "output_type": "stream",
     "text": [
      "age not more than 18\n"
     ]
    }
   ],
   "source": [
    "num=int(input(\"enter a number\"))\n",
    "if num >=18:\n",
    "    print(\"age more than 18\")\n",
    "else:\n",
    "    print(\"age not more than 18\" )    "
   ]
  },
  {
   "cell_type": "code",
   "execution_count": 30,
   "metadata": {},
   "outputs": [
    {
     "name": "stdout",
     "output_type": "stream",
     "text": [
      "number not divisible by 5 and 7\n"
     ]
    }
   ],
   "source": [
    "num=int(input(\"enter a number\"))\n",
    "if num % 5==0 and num % 7==0:\n",
    "    print(\"number divisible by 5 and 7\")\n",
    "else:\n",
    "    print(\"number not divisible by 5 and 7\")    \n",
    "    "
   ]
  },
  {
   "cell_type": "code",
   "execution_count": 32,
   "metadata": {},
   "outputs": [
    {
     "name": "stdout",
     "output_type": "stream",
     "text": [
      "vowel\n"
     ]
    }
   ],
   "source": [
    "alpa=input(\"enter a character\")\n",
    "if alpa=='a' or alpa=='e' or alpa=='i' or alpa=='o'  or alpa=='u':\n",
    "    print(\"vowel\")\n",
    "else:\n",
    "    print(\"consonent\")    "
   ]
  },
  {
   "cell_type": "code",
   "execution_count": 33,
   "metadata": {},
   "outputs": [
    {
     "name": "stdout",
     "output_type": "stream",
     "text": [
      "number is positive and even in same time\n"
     ]
    }
   ],
   "source": [
    "num=int(input(\"enter a number\"))\n",
    "if num % 2==0 and num > 0:\n",
    "    print(\"number is positive and even in same time\")\n",
    "else:\n",
    "    print(\"number is not positive and even in same time\")    "
   ]
  },
  {
   "cell_type": "code",
   "execution_count": 36,
   "metadata": {},
   "outputs": [
    {
     "name": "stdout",
     "output_type": "stream",
     "text": [
      "300000.0\n"
     ]
    }
   ],
   "source": [
    "salary=int(input(\"enter a number\"))\n",
    "if salary > 100000:\n",
    "    tax=0.30*salary\n",
    "elif salary > 50000:\n",
    "    tax=0.20*salary\n",
    "else:\n",
    "    tax=0.10*salary \n",
    "# print(f\"your tax amount is : {tax:.2f}\")           \n",
    "print(tax)"
   ]
  },
  {
   "cell_type": "code",
   "execution_count": null,
   "metadata": {},
   "outputs": [
    {
     "name": "stdout",
     "output_type": "stream",
     "text": [
      "my age is 10\n"
     ]
    }
   ],
   "source": [
    "##formatted string --- you can write your string in a enchanced manner \n",
    "\n",
    "age = 10 \n",
    "# text = \"my age is \" + age\n",
    "text = f\"my age is {age}\"       #for string and integer want to play together use formattef string use f\n",
    "print(text)"
   ]
  },
  {
   "cell_type": "code",
   "execution_count": 39,
   "metadata": {},
   "outputs": [
    {
     "name": "stdout",
     "output_type": "stream",
     "text": [
      "852.0\n"
     ]
    }
   ],
   "source": [
    "num=int(input(\"enter a number\"))\n",
    "if num > 10000:\n",
    "    discount=0.20*num\n",
    "elif num > 5000:\n",
    "    discount=0.10*num\n",
    "else:\n",
    "    discount=0.5*num        \n",
    "print(discount)"
   ]
  },
  {
   "cell_type": "code",
   "execution_count": null,
   "metadata": {},
   "outputs": [],
   "source": []
  },
  {
   "cell_type": "code",
   "execution_count": null,
   "metadata": {},
   "outputs": [],
   "source": []
  },
  {
   "cell_type": "code",
   "execution_count": null,
   "metadata": {},
   "outputs": [],
   "source": []
  }
 ],
 "metadata": {
  "kernelspec": {
   "display_name": "Python 3",
   "language": "python",
   "name": "python3"
  },
  "language_info": {
   "codemirror_mode": {
    "name": "ipython",
    "version": 3
   },
   "file_extension": ".py",
   "mimetype": "text/x-python",
   "name": "python",
   "nbconvert_exporter": "python",
   "pygments_lexer": "ipython3",
   "version": "3.13.1"
  }
 },
 "nbformat": 4,
 "nbformat_minor": 2
}
