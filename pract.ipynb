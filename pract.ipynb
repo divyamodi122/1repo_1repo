{
 "cells": [
  {
   "cell_type": "code",
   "execution_count": null,
   "metadata": {},
   "outputs": [],
   "source": [
    "#string--Strings in python are surrounded by either single quotation marks, or double quotation marks.\n",
    "#list--Lists are used to store multiple items in a single variable.\n",
    "  #Lists are created using square brackets:\n",
    "#tuple--Lists are used to store multiple items in a single variable.\n",
    "   #A tuple is a collection which is ordered and unchangeable.\n",
    "\n",
    "   #Tuples are written with round brackets.\n",
    "# set--A set is a collection which is unordered, unchangeable*, and unindexed.\n",
    " #Note: Set items are unchangeable, but you can remove items and add new items.\n",
    "\n",
    "#Sets are written with curly brackets.\n",
    "#Dictionaries are used to store data values in key:value pairs.\n",
    "\n",
    "  #A dictionary is a collection which is ordered*, changeable and do not allow duplicates.\n",
    "  #Dictionaries are written with curly brackets, and have keys and values"
   ]
  },
  {
   "cell_type": "code",
   "execution_count": null,
   "metadata": {},
   "outputs": [
    {
     "name": "stdout",
     "output_type": "stream",
     "text": [
      "Hello\n"
     ]
    }
   ],
   "source": [
    "#examples--\n",
    "\n",
    "#1.string--\n",
    "a = \"Hello\"\n",
    "print(a)\n",
    "\n",
    "#2. list--\n",
    "thislist = [\"apple\", \"banana\", \"cherry\"]\n",
    "print(thislist)\n",
    "\n",
    "#3. tuple--\n",
    "thistuple = (\"apple\", \"banana\", \"cherry\")\n",
    "print(thistuple)\n",
    "\n",
    "thistuple = (\"apple\",)\n",
    "print(type(thistuple))\n",
    "\n",
    "     #One item tuple, remember the comma:\n",
    "\n",
    "tuple1 = (\"abc\", 34, True, 40, \"male\")\n",
    "     #A tuple with strings, integers and boolean values\n",
    "\n",
    "\n",
    "\n",
    "#4. set--\n",
    "thisset = {\"apple\", \"banana\", \"cherry\"}\n",
    "print(thisset)\n",
    "\n",
    "#5. dic--\n",
    "thisdict = {\n",
    "  \"brand\": \"Ford\",\n",
    "  \"model\": \"Mustang\",\n",
    "  \"year\": 1964\n",
    "}\n",
    "print(thisdict)"
   ]
  },
  {
   "cell_type": "code",
   "execution_count": 2,
   "metadata": {},
   "outputs": [
    {
     "name": "stdout",
     "output_type": "stream",
     "text": [
      "hello world\n",
      "<class 'str'>\n",
      "HELLO WORLD\n",
      "hello world\n",
      "<class 'float'>\n",
      "56\n"
     ]
    }
   ],
   "source": [
    "###string-----\n",
    "s=\"hello world\"\n",
    "print(s)\n",
    "print(type(s))\n",
    "print(s.upper())\n",
    "print(s.lower())\n",
    "\n",
    "\n",
    "a=56\n",
    "print(type(float(a)))\n",
    "print(a)"
   ]
  },
  {
   "cell_type": "code",
   "execution_count": null,
   "metadata": {},
   "outputs": [
    {
     "name": "stdout",
     "output_type": "stream",
     "text": [
      "l\n",
      "banana\n",
      "cherry\n",
      "['cherry', 'orange', 'kiwi']\n",
      "['apple', 'banana', 'cherry', 'orange']\n",
      "['cherry', 'orange', 'kiwi', 'melon', 'mango']\n",
      "['orange', 'kiwi', 'melon']\n",
      "banana\n",
      "apple\n",
      "banana\n",
      "cherry\n",
      "True\n",
      "False\n",
      "{'name': 'divya', 'age': 25, 'coaching': 'upflairs'}\n",
      "<class 'dict'>\n"
     ]
    },
    {
     "data": {
      "text/plain": [
       "'divya'"
      ]
     },
     "execution_count": 10,
     "metadata": {},
     "output_type": "execute_result"
    }
   ],
   "source": [
    "##accessing string      #access the character by number/index start by zero ending by -1\n",
    "\n",
    "a=\"hello\"\n",
    "print(a[3])     \n",
    "\n",
    "#Square brackets can be used to access elements of the string.\n",
    "#Get the character at position 1 (remember that the first character has the position 0):\n",
    "\n",
    "#accessing list--\n",
    "thislist = [\"apple\", \"banana\", \"cherry\"]\n",
    "print(thislist[1])\n",
    "\n",
    "thislist = [\"apple\", \"banana\", \"cherry\"]\n",
    "print(thislist[-1])     #print the last item of list\n",
    "\n",
    "thislist = [\"apple\", \"banana\", \"cherry\", \"orange\", \"kiwi\", \"melon\", \"mango\"]\n",
    "print(thislist[2:5])\n",
    "\n",
    "thislist = [\"apple\", \"banana\", \"cherry\", \"orange\", \"kiwi\", \"melon\", \"mango\"]\n",
    "print(thislist[:4])\n",
    "\n",
    "thislist = [\"apple\", \"banana\", \"cherry\", \"orange\", \"kiwi\", \"melon\", \"mango\"]\n",
    "print(thislist[2:])\n",
    "\n",
    "thislist = [\"apple\", \"banana\", \"cherry\", \"orange\", \"kiwi\", \"melon\", \"mango\"]\n",
    "print(thislist[-4:-1])        ##This example returns the items from index -4 (included) to index -1 (excluded)\n",
    "\n",
    "\n",
    "#accessing tuple--\n",
    "thistuple = (\"apple\", \"banana\", \"cherry\")\n",
    "print(thistuple[1])\n",
    "      #similiar as list another all\n",
    "\n",
    "\n",
    "#accessing set--\n",
    "#You cannot access items in a set by referring to an index or a key.\n",
    "#But you can loop through the set items using a for loop, or ask if a specified value is present in a set, \n",
    "# by using the in keyword.\n",
    "thisset = {\"apple\", \"banana\", \"cherry\"}\n",
    "for x in thisset:\n",
    "  print(x)\n",
    "\n",
    "#Check if \"banana\" is present in the set:\n",
    "thisset = {\"apple\", \"banana\", \"cherry\"}\n",
    "print(\"banana\" in thisset)  \n",
    "\n",
    "#Once a set is created, you cannot change its items, but you can add new items.\n",
    " \n",
    "thisset = {\"apple\", \"banana\", \"cherry\"}\n",
    "print(\"banana\" not in thisset)\n",
    "\n",
    "#accessing dic--\n",
    "dt={\n",
    "\"name\": \"divya\",\n",
    "\"age\":25,\n",
    "\"coaching\":\"upflairs\"\n",
    "\n",
    "\n",
    "\n",
    "} \n",
    "print(dt)\n",
    "print(type(dt))\n",
    "\n",
    "#accessing by keys not by number\n",
    "dt[\"coaching\"]\n",
    "dt[\"coaching\"]=\"xyz\"\n",
    "dt\n",
    "\n",
    "dt.keys()\n",
    "dt.items()     #keys and value both\n",
    "dt.values()\n",
    "dt.get(\"name\")\n",
    "\n",
    "\n",
    "\n",
    "\n",
    "\n",
    "\n",
    "\n",
    "\n",
    "\n",
    "\n"
   ]
  },
  {
   "cell_type": "code",
   "execution_count": null,
   "metadata": {},
   "outputs": [],
   "source": []
  },
  {
   "cell_type": "code",
   "execution_count": null,
   "metadata": {},
   "outputs": [],
   "source": []
  },
  {
   "cell_type": "code",
   "execution_count": null,
   "metadata": {},
   "outputs": [],
   "source": []
  },
  {
   "cell_type": "code",
   "execution_count": null,
   "metadata": {},
   "outputs": [],
   "source": []
  },
  {
   "cell_type": "code",
   "execution_count": null,
   "metadata": {},
   "outputs": [],
   "source": []
  },
  {
   "cell_type": "code",
   "execution_count": null,
   "metadata": {},
   "outputs": [],
   "source": []
  },
  {
   "cell_type": "code",
   "execution_count": null,
   "metadata": {},
   "outputs": [],
   "source": []
  },
  {
   "cell_type": "code",
   "execution_count": null,
   "metadata": {},
   "outputs": [],
   "source": []
  },
  {
   "cell_type": "code",
   "execution_count": null,
   "metadata": {},
   "outputs": [],
   "source": []
  },
  {
   "cell_type": "code",
   "execution_count": null,
   "metadata": {},
   "outputs": [],
   "source": []
  },
  {
   "cell_type": "code",
   "execution_count": null,
   "metadata": {},
   "outputs": [],
   "source": []
  },
  {
   "cell_type": "code",
   "execution_count": null,
   "metadata": {},
   "outputs": [],
   "source": []
  },
  {
   "cell_type": "code",
   "execution_count": null,
   "metadata": {},
   "outputs": [],
   "source": []
  },
  {
   "cell_type": "code",
   "execution_count": null,
   "metadata": {},
   "outputs": [],
   "source": []
  },
  {
   "cell_type": "code",
   "execution_count": null,
   "metadata": {},
   "outputs": [],
   "source": []
  }
 ],
 "metadata": {
  "kernelspec": {
   "display_name": "Python 3",
   "language": "python",
   "name": "python3"
  },
  "language_info": {
   "codemirror_mode": {
    "name": "ipython",
    "version": 3
   },
   "file_extension": ".py",
   "mimetype": "text/x-python",
   "name": "python",
   "nbconvert_exporter": "python",
   "pygments_lexer": "ipython3",
   "version": "3.13.1"
  }
 },
 "nbformat": 4,
 "nbformat_minor": 2
}
