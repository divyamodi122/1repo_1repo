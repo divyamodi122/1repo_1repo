{
 "cells": [
  {
   "cell_type": "code",
   "execution_count": null,
   "metadata": {},
   "outputs": [],
   "source": [
    "#oops-- python is a object oriented programming language\n",
    "#oops class-- collection of objects,classes  are blueprint for creating objects, class real world entity examine krta hai\n",
    "#oops object-- object is an instance of a class, that contain state(attribute) and behaviour(methods),identity that operate on the data"
   ]
  },
  {
   "cell_type": "code",
   "execution_count": null,
   "metadata": {},
   "outputs": [
    {
     "name": "stdout",
     "output_type": "stream",
     "text": [
      "my car model defender\n",
      "my car color black\n",
      "my car price 1000000000\n"
     ]
    }
   ],
   "source": [
    "class car:\n",
    "    #class variable\n",
    "    name=\"defender\"\n",
    "    color=\"black\"\n",
    "    price=1000000000\n",
    "\n",
    "#methods(thats called function)\n",
    "    def display(self):               #self is keyword passes as parameter and agr humein classes k ander hi uski properites ko access karna hota hai to self lagte hai\n",
    "        print(\"my car model\",self.name)\n",
    "        print(\"my car color\",self.color)\n",
    "        print(\"my car price\",self.price)\n",
    "\n",
    "#object--\n",
    "obj=car()         #obj is variable jisme car li properties store ki hai or car() as a object \n",
    "obj.color\n",
    "obj.name          #car ki properties ko call krna\n",
    "obj.price\n",
    "obj.display()      #calling function/method\n",
    "        "
   ]
  },
  {
   "cell_type": "code",
   "execution_count": null,
   "metadata": {},
   "outputs": [
    {
     "name": "stdout",
     "output_type": "stream",
     "text": [
      "time se nahi ati divya\n",
      "bat nhi sunti teacher ki vikram sir\n",
      "padhai nhi karti data science\n"
     ]
    }
   ],
   "source": [
    "class upflairs:\n",
    "    name=\"divya\"\n",
    "    teacher=\"jaijee\"\n",
    "    subject=\"data science\"\n",
    "\n",
    "    def beshram_student(self):\n",
    "        print(\"time se nahi ati\",self.name)\n",
    "        print(\"bat nhi sunti teacher ki\",self.teacher)\n",
    "        print(\"padhai nhi karti\",self.subject)\n",
    "\n",
    "\n",
    "obj=upflairs()    \n",
    "obj.name\n",
    "obj.subject\n",
    "obj.teacher = \"vikram sir\"      #update value\n",
    "obj.beshram_student()\n",
    "    \n",
    "    "
   ]
  },
  {
   "cell_type": "code",
   "execution_count": 14,
   "metadata": {},
   "outputs": [
    {
     "name": "stdout",
     "output_type": "stream",
     "text": [
      "[1, 'hello', 3]\n"
     ]
    }
   ],
   "source": [
    "#example list\n",
    "lst=[1,2,3]\n",
    "lst[1]=\"hello\"\n",
    "print(lst)"
   ]
  },
  {
   "cell_type": "code",
   "execution_count": 1,
   "metadata": {},
   "outputs": [
    {
     "name": "stdout",
     "output_type": "stream",
     "text": [
      "my car model is rubicon\n",
      "my car color is grey\n",
      "my car price is 800000000\n",
      "my car model is rubicon\n",
      "my car color is grey\n",
      "my car price is 800000000\n"
     ]
    }
   ],
   "source": [
    "class Car:\n",
    "    ##__init__ is a constructor, variables ko intialize karne k liye use hota hi\n",
    "    def __init__(self,name,color,price):        #name,color,price as parameter\n",
    "        self.x=name        #x,y,z as variable\n",
    "        self.y=color\n",
    "        self.z=price\n",
    "    def display(self):\n",
    "        print(\"my car model is\",self.x)\n",
    "        print(\"my car color is\",self.y)\n",
    "        print(\"my car price is\",self.z)\n",
    "\n",
    "\n",
    "obj=Car(\"rubicon\",\"grey\",800000000)      #user input\n",
    "obj.display()   \n",
    "\n",
    "obj1=Car(\"scorpio s11\",\"black\",2000000)\n",
    "obj.display()\n",
    "\n"
   ]
  },
  {
   "cell_type": "code",
   "execution_count": null,
   "metadata": {},
   "outputs": [],
   "source": [
    "##inheritence-- ek class ki prop aur method ko access kar skte ho dusri class \n",
    "#inheritence -- reuse the properties and method of parent class in a child class\n",
    "#type== single,multiple,multilevel,hierarchial,hybrid inheritence\n"
   ]
  },
  {
   "cell_type": "code",
   "execution_count": null,
   "metadata": {},
   "outputs": [
    {
     "data": {
      "text/plain": [
       "'mohit'"
      ]
     },
     "execution_count": 4,
     "metadata": {},
     "output_type": "execute_result"
    }
   ],
   "source": [
    "#single-- a child class inherits from one parent class\n",
    "class person:             #parent class\n",
    "    def __init__(self,name):\n",
    "        self.name=name\n",
    "\n",
    "class employee(person):           #child class\n",
    "    def __init__(self,name,salary):\n",
    "        super().__init__(name)     #super keyword its used to access the parent class mathod and properties\n",
    "        self.salary = salary\n",
    "           \n",
    "obj= employee(\"a\",34536547567)\n",
    "obj.name\n",
    "obj.salary\n",
    "\n",
    "class pagalthana:\n",
    "    def __init__(self,name):\n",
    "        self.name=name\n",
    "\n",
    "class patient(pagalthana):\n",
    "    def __init__(self,name,age):\n",
    "        super().__init__(name) \n",
    "        self.age = age\n",
    "\n",
    "obj=patient(\"mohit\",21)\n",
    "obj.age\n",
    "obj.name      \n",
    "        \n"
   ]
  },
  {
   "cell_type": "code",
   "execution_count": 5,
   "metadata": {},
   "outputs": [
    {
     "name": "stdout",
     "output_type": "stream",
     "text": [
      "mohit 21 3000\n"
     ]
    }
   ],
   "source": [
    "#multiple-- a child class inherits from multiple parent class\n",
    "class pagalthana:\n",
    "    def __init__(self,name):\n",
    "        self.name=name\n",
    "\n",
    "class patient(pagalthana):\n",
    "    def __init__(self,name,age):\n",
    "        super().__init__(name) \n",
    "        self.age = age\n",
    "\n",
    "class job:\n",
    "    def __init__(self,salary):\n",
    "        self.salary = salary  \n",
    "\n",
    "class patientpagalthanajob(patient,job):\n",
    "    def __init__(self, name,age,salary):\n",
    "        patient.__init__(self,name,age)\n",
    "        job.__init__(self,salary)\n",
    "\n",
    "obj=patientpagalthanajob(\"mohit\",21,3000)\n",
    "print(obj.name,obj.age,obj.salary)\n",
    "                 "
   ]
  },
  {
   "cell_type": "code",
   "execution_count": 6,
   "metadata": {},
   "outputs": [
    {
     "name": "stdout",
     "output_type": "stream",
     "text": [
      "xyc 32 3546 it\n"
     ]
    }
   ],
   "source": [
    "#multilevel--a class is derived from a class which is also derived from another class\n",
    "class pagalthana:\n",
    "    def __init__(self,name):\n",
    "        self.name=name\n",
    "\n",
    "class patient(pagalthana):\n",
    "    def __init__(self,name,age):\n",
    "        super().__init__(name) \n",
    "        self.age = age\n",
    "\n",
    "class job:\n",
    "    def __init__(self,salary):\n",
    "        self.salary = salary  \n",
    "\n",
    "class patientpagalthanajob(patient,job):\n",
    "    def __init__(self, name,age,salary):\n",
    "        patient.__init__(self,name,age)\n",
    "        job.__init__(self,salary)\n",
    "\n",
    "class manager(patientpagalthanajob):\n",
    "    def __init__(self, name, age, salary,department):\n",
    "        patientpagalthanajob.__init__(self,name,age,salary)\n",
    "        self.department = department\n",
    "\n",
    "obj=manager(\"xyc\",32,3546,\"it\")\n",
    "print(obj.name,obj.age,obj.salary,obj.department)        \n",
    "      \n",
    "               "
   ]
  },
  {
   "cell_type": "code",
   "execution_count": 8,
   "metadata": {},
   "outputs": [
    {
     "ename": "AttributeError",
     "evalue": "'assistantmanager' object has no attribute 'teamsize'",
     "output_type": "error",
     "traceback": [
      "\u001b[1;31m---------------------------------------------------------------------------\u001b[0m",
      "\u001b[1;31mAttributeError\u001b[0m                            Traceback (most recent call last)",
      "Cell \u001b[1;32mIn[8], line 31\u001b[0m\n\u001b[0;32m     28\u001b[0m         \u001b[38;5;28mself\u001b[39m\u001b[38;5;241m.\u001b[39mteam_size \u001b[38;5;241m=\u001b[39m team_size\n\u001b[0;32m     30\u001b[0m obj\u001b[38;5;241m=\u001b[39massistantmanager(\u001b[38;5;124m\"\u001b[39m\u001b[38;5;124mmohit\u001b[39m\u001b[38;5;124m\"\u001b[39m,\u001b[38;5;241m32\u001b[39m,\u001b[38;5;241m56788\u001b[39m,\u001b[38;5;241m5\u001b[39m)\n\u001b[1;32m---> 31\u001b[0m \u001b[38;5;28mprint\u001b[39m(obj\u001b[38;5;241m.\u001b[39mname,obj\u001b[38;5;241m.\u001b[39mage,obj\u001b[38;5;241m.\u001b[39msalary,\u001b[43mobj\u001b[49m\u001b[38;5;241;43m.\u001b[39;49m\u001b[43mteamsize\u001b[49m)     \n",
      "\u001b[1;31mAttributeError\u001b[0m: 'assistantmanager' object has no attribute 'teamsize'"
     ]
    }
   ],
   "source": [
    "#heirarchical--multiple classes inherit from single class\n",
    "class pagalthana:\n",
    "    def __init__(self,name):\n",
    "        self.name=name\n",
    "\n",
    "class patient(pagalthana):\n",
    "    def __init__(self,name,age):\n",
    "        super().__init__(name) \n",
    "        self.age = age\n",
    "\n",
    "class job:\n",
    "    def __init__(self,salary):\n",
    "        self.salary = salary  \n",
    "\n",
    "class patientpagalthanajob(patient,job):\n",
    "    def __init__(self, name,age,salary):\n",
    "        patient.__init__(self,name,age)\n",
    "        job.__init__(self,salary)\n",
    "\n",
    "class manager(patientpagalthanajob):\n",
    "    def __init__(self, name, age, salary,department):\n",
    "        patientpagalthanajob.__init__(self,name,age,salary)\n",
    "        self.department = department\n",
    "\n",
    "class assistantmanager(patientpagalthanajob):\n",
    "    def __init__(self, name, age, salary,team_size):\n",
    "        patientpagalthanajob.__init__(self,name,age,salary)\n",
    "        self.team_size = team_size\n",
    "\n",
    "obj=assistantmanager(\"mohit\",32,56788,5)\n",
    "print(obj.name,obj.age,obj.salary,obj.teamsize)     \n"
   ]
  },
  {
   "cell_type": "code",
   "execution_count": 9,
   "metadata": {},
   "outputs": [
    {
     "name": "stdout",
     "output_type": "stream",
     "text": [
      "div 27 34556 it 5\n"
     ]
    }
   ],
   "source": [
    "#hybrid--combination of multiple class and multilevel class\n",
    "class pagalthana:\n",
    "    def __init__(self,name):\n",
    "        self.name=name\n",
    "\n",
    "class patient(pagalthana):\n",
    "    def __init__(self,name,age):\n",
    "        super().__init__(name) \n",
    "        self.age = age\n",
    "\n",
    "class job:\n",
    "    def __init__(self,salary):\n",
    "        self.salary = salary  \n",
    "\n",
    "class patientpagalthanajob(patient,job):\n",
    "    def __init__(self, name,age,salary):\n",
    "        patient.__init__(self,name,age)\n",
    "        job.__init__(self,salary)\n",
    "\n",
    "class manager(patientpagalthanajob):\n",
    "    def __init__(self, name, age, salary,department):\n",
    "        patientpagalthanajob.__init__(self,name,age,salary)\n",
    "        self.department = department\n",
    "\n",
    "class assistantmanager(patientpagalthanajob):\n",
    "    def __init__(self, name, age, salary,team_size):\n",
    "        patientpagalthanajob.__init__(self,name,age,salary)\n",
    "        self.team_size = team_size\n",
    "\n",
    "class seniormanager(manager,assistantmanager):\n",
    "    def __init__(self, name, age, salary,department,team_size):\n",
    "        manager.__init__(self,name,age,salary,department)\n",
    "        assistantmanager.__init__(self,name,age,salary,team_size)\n",
    "\n",
    "\n",
    "obj=seniormanager(\"div\",27,34556,\"it\",5)\n",
    "print(obj.name,obj.age,obj.salary,obj.department,obj.team_size)        \n",
    "    \n",
    "        \n"
   ]
  },
  {
   "cell_type": "code",
   "execution_count": null,
   "metadata": {},
   "outputs": [],
   "source": [
    "#polimorphism--same method name but different behaviour\n",
    "class cat:\n",
    "    def speak(self):\n",
    "        return \"meow\"\n",
    "    def animal_sound(animal):\n",
    "        print(animal.speak())\n",
    "\n",
    "        cat= Cat()\n",
    "        dog= Dog()\n",
    "        animal_sound(cat) # output: Meow\n",
    "        animal_sound(dog) # output: Bark\n",
    "\n"
   ]
  },
  {
   "cell_type": "code",
   "execution_count": null,
   "metadata": {},
   "outputs": [],
   "source": []
  },
  {
   "cell_type": "code",
   "execution_count": 8,
   "metadata": {},
   "outputs": [
    {
     "name": "stdout",
     "output_type": "stream",
     "text": [
      "Area: 50\n",
      "perimeter 30\n"
     ]
    }
   ],
   "source": [
    "#abstraction - hide the implementation details and show oonly the necessary details and show only the necessary user \n",
    "from abc import ABC,abstractmethod\n",
    "\n",
    "class shape (ABC):\n",
    "    @abstractmethod\n",
    "    def area(self):\n",
    "        pass\n",
    "    @abstractmethod\n",
    "    def perimeter(self):\n",
    "        pass\n",
    "\n",
    "\n",
    "\n",
    "class rectangle(shape):\n",
    "    def __init__(self, length, width):\n",
    "        self.length = length\n",
    "        self.width = width\n",
    "\n",
    "    def area(self):\n",
    "        return self.length * self.width\n",
    "\n",
    "    def perimeter(self):\n",
    "        return 2 * (self.length + self.width)\n",
    "\n",
    "\n",
    "rect = rectangle(10, 5)\n",
    "print(\"Area:\", rect.area())\n",
    "print(\"perimeter\",rect.perimeter())"
   ]
  },
  {
   "cell_type": "code",
   "execution_count": 11,
   "metadata": {},
   "outputs": [
    {
     "name": "stdout",
     "output_type": "stream",
     "text": [
      "1500\n"
     ]
    }
   ],
   "source": [
    "#encapsulation--wrapping data and method into a single unit(class)\n",
    "#using private(__) private attribute ko class ke nhar access nhi kr pate and protected(_)attributes(can be accessed outside the class),public attribute\n",
    "\n",
    "class Bankaccount:\n",
    "    def __init__(self, balance):\n",
    "        self.__balance = balance\n",
    "\n",
    "    def deposit(self, amount):\n",
    "        self.__balance += amount\n",
    "\n",
    "    def get_balance(self):\n",
    "        return self.__balance\n",
    "\n",
    "\n",
    "account = Bankaccount(1000)\n",
    "account.deposit(500)\n",
    "print(account.get_balance())\n",
    "\n",
    "#account.deposit(200)    \n",
    "        \n",
    "\n",
    "\n"
   ]
  },
  {
   "cell_type": "code",
   "execution_count": null,
   "metadata": {},
   "outputs": [],
   "source": []
  }
 ],
 "metadata": {
  "kernelspec": {
   "display_name": "Python 3",
   "language": "python",
   "name": "python3"
  },
  "language_info": {
   "codemirror_mode": {
    "name": "ipython",
    "version": 3
   },
   "file_extension": ".py",
   "mimetype": "text/x-python",
   "name": "python",
   "nbconvert_exporter": "python",
   "pygments_lexer": "ipython3",
   "version": "3.13.1"
  }
 },
 "nbformat": 4,
 "nbformat_minor": 2
}
