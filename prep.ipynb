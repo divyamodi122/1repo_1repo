{
 "cells": [
  {
   "cell_type": "code",
   "execution_count": 1,
   "metadata": {},
   "outputs": [
    {
     "name": "stdout",
     "output_type": "stream",
     "text": [
      "gouri is my cute little sister\n",
      "<class 'str'>\n"
     ]
    }
   ],
   "source": [
    "#string--\n",
    "st = \"gouri is my cute little sister\"\n",
    "print(st)\n",
    "print(type(st))"
   ]
  },
  {
   "cell_type": "code",
   "execution_count": 48,
   "metadata": {},
   "outputs": [
    {
     "name": "stdout",
     "output_type": "stream",
     "text": [
      "GOURI IS MY CUTE LITTLE SISTER\n",
      "gouri is my cute little sister\n",
      "Gouri Is My Cute Little Sister\n",
      "Gouri is my cute little sister\n",
      "divya is my elder sister gouri is my cute little sister\n"
     ]
    }
   ],
   "source": [
    "#string function--\n",
    "print(st.upper())\n",
    "print(st.lower())\n",
    "print(st.title())\n",
    "print(st.capitalize())\n",
    "\n",
    "print(\"divya is my elder sister\",st)"
   ]
  },
  {
   "cell_type": "code",
   "execution_count": 24,
   "metadata": {},
   "outputs": [
    {
     "name": "stdout",
     "output_type": "stream",
     "text": [
      "e\n",
      "g\n",
      "i\n",
      "t\n"
     ]
    }
   ],
   "source": [
    "#accessing the string--(indexing a character)\n",
    "st2 = \"coffee is good but tea is different\"\n",
    "print(st2[5])\n",
    "print(st2[10])\n",
    "#Note: Accessing an index out of range will cause an IndexError. Only integers are allowed as indices and \n",
    "#using a float or other types will result in a TypeError.\n",
    "\n",
    "#Access string with Negative Indexing\n",
    "print(st2[-8])\n",
    "print(st2[-1])\n"
   ]
  },
  {
   "cell_type": "code",
   "execution_count": null,
   "metadata": {},
   "outputs": [
    {
     "name": "stdout",
     "output_type": "stream",
     "text": [
      "python is\n",
      "python is \n",
      "easy to learn language\n",
      "arn languag\n",
      "egaugnal nrael ot ysae si nohtyp\n"
     ]
    }
   ],
   "source": [
    "#slicing--String slicing in Python is a way to get specific parts of a string by using start, end, \n",
    "# and step values. It’s especially useful for text manipulation and data parsing.\n",
    "st3 = \"python is easy to learn language\"\n",
    "print(st3[0:9])    #Retrieves characters from index 0 to 8\n",
    "print(st3[:10])    #Retrieves characters from beginning to index 9\n",
    "print(st3[10:])   #Retrieves characters from index 10 to the end\n",
    "print(st3[-12:-1])\n",
    "print(st3[::-1])       #reverse\n"
   ]
  },
  {
   "cell_type": "code",
   "execution_count": null,
   "metadata": {},
   "outputs": [
    {
     "name": "stdout",
     "output_type": "stream",
     "text": [
      "Divya is good girl\n",
      "good is divya\n"
     ]
    }
   ],
   "source": [
    "#string in python are immutable--\n",
    "s = \"divya is good girl\"   \n",
    "s = \"D\"+s[1:]       #updating by create new string\n",
    "print(s)\n",
    "s1 = \"good is bad\"\n",
    "print(s1.replace(\"bad\",\"divya\"))        \n"
   ]
  },
  {
   "cell_type": "code",
   "execution_count": 64,
   "metadata": {},
   "outputs": [
    {
     "name": "stdout",
     "output_type": "stream",
     "text": [
      "18\n",
      "premanandji is good motivator\n",
      "premanandji is good motivator\n",
      "premanandji is good motivator\n",
      "my friend is good\n",
      "gouri divya is sister\n",
      "hello hello hello hello \n"
     ]
    }
   ],
   "source": [
    "#common method--\n",
    "s = \"divya is good girl\" \n",
    "print(len(s))             #length of sentence\n",
    "\n",
    "#remove space--\n",
    "t = \"premanandji is good motivator\"\n",
    "print(t.strip())\n",
    "print(t.lstrip())\n",
    "print(t.rstrip())\n",
    "\n",
    "#concatenation string--  +operstor\n",
    "a=\"my friend\"\n",
    "b=\"is good\"\n",
    "print(a+\" \"+b)\n",
    "\n",
    "#join method--\n",
    "d=\"gouri\",\"divya\",\"is sister\"\n",
    "print(\" \".join(d))\n",
    "\n",
    "#repeating string --*operator\n",
    "p=\"hello \"\n",
    "print(p * 4)\n",
    "\n"
   ]
  },
  {
   "cell_type": "code",
   "execution_count": 20,
   "metadata": {},
   "outputs": [
    {
     "name": "stdout",
     "output_type": "stream",
     "text": [
      "['apple', True, 45, 'apple', 9.8, 'green']\n",
      "<class 'list'>\n",
      "9.8\n",
      "apple\n",
      "apple\n",
      "green\n",
      "<class 'str'>\n",
      "<class 'int'>\n",
      "['gulabinagri', 'blue city', 45, 77.8, False, 'divyaa']\n"
     ]
    },
    {
     "data": {
      "text/plain": [
       "['apple', 'blue city', 'a', 'b', True, False, 'divyaa']"
      ]
     },
     "execution_count": 20,
     "metadata": {},
     "output_type": "execute_result"
    }
   ],
   "source": [
    "#list---\n",
    "a = [\"apple\",True,45,\"apple\",9.8,\"green\"]\n",
    "print(a)\n",
    "print(type(a))\n",
    "\n",
    "#accessing a list using indexing--\n",
    "print(a[4])\n",
    "print(a[3])\n",
    "print(a[0])\n",
    "print(a[5])\n",
    "print(type(a[0]))\n",
    "print(type(a[2]))\n",
    "\n",
    "#accessing added value--\n",
    "lst = [\"gulabinagri\",\"blue city\",45,77.8,False,\"divyaa\"]\n",
    "print(lst)\n",
    "lst[3]\n",
    "lst[3] = \"xyz\"\n",
    "lst\n",
    "lst[2:4] = [\"a\",\"b\",True]\n",
    "lst\n",
    "lst[0] = \"apple\"\n",
    "lst"
   ]
  },
  {
   "cell_type": "code",
   "execution_count": null,
   "metadata": {},
   "outputs": [
    {
     "name": "stdout",
     "output_type": "stream",
     "text": [
      "[1, 2, 34, 'apple', 'blue', 88.6]\n"
     ]
    }
   ],
   "source": [
    "#list constructor-- \n",
    "a=list((1,2,34,\"apple\",\"blue\",88.6))         #from a tuple\n",
    "print(a)"
   ]
  },
  {
   "cell_type": "code",
   "execution_count": 17,
   "metadata": {},
   "outputs": [
    {
     "name": "stdout",
     "output_type": "stream",
     "text": [
      "['gulabinagri', 'blue city', 45, 77.8, False, 'divyaa', 'green']\n",
      "['gulabinagri', 'blue city', 45, 77.8, False, 'divyaa', 'green', 'yellow', 'pink']\n",
      "After extend([15, 20, 25]): ['gulabinagri', 'blue city', 45, 'ball', 77.8, False, 'divyaa', 'green', 'yellow', 'pink', 15, 20, 25]\n"
     ]
    }
   ],
   "source": [
    "#adding element into list--\n",
    "lst = [\"gulabinagri\",\"blue city\",45,77.8,False,\"divyaa\"]\n",
    "lst.append(\"green\")\n",
    "print(lst)\n",
    "\n",
    "lst.extend([\"yellow\",\"pink\"])\n",
    "print(lst)\n",
    "\n",
    "lst.insert(3,\"ball\")\n",
    "lst\n",
    "\n",
    "lst.extend([15, 20, 25])  \n",
    "print(\"After extend([15, 20, 25]):\", lst) \n",
    "\n"
   ]
  },
  {
   "cell_type": "code",
   "execution_count": null,
   "metadata": {},
   "outputs": [
    {
     "ename": "ValueError",
     "evalue": "list.remove(x): x not in list",
     "output_type": "error",
     "traceback": [
      "\u001b[1;31m---------------------------------------------------------------------------\u001b[0m",
      "\u001b[1;31mValueError\u001b[0m                                Traceback (most recent call last)",
      "Cell \u001b[1;32mIn[23], line 2\u001b[0m\n\u001b[0;32m      1\u001b[0m \u001b[38;5;66;03m#removing elemnt into list\u001b[39;00m\n\u001b[1;32m----> 2\u001b[0m \u001b[43mlst\u001b[49m\u001b[38;5;241;43m.\u001b[39;49m\u001b[43mremove\u001b[49m\u001b[43m(\u001b[49m\u001b[38;5;124;43m\"\u001b[39;49m\u001b[38;5;124;43mgulabinagri\u001b[39;49m\u001b[38;5;124;43m\"\u001b[39;49m\u001b[43m)\u001b[49m\n\u001b[0;32m      3\u001b[0m lst\n\u001b[0;32m      5\u001b[0m z\u001b[38;5;241m=\u001b[39m[\u001b[38;5;241m10\u001b[39m,\u001b[38;5;241m20\u001b[39m,\u001b[38;5;241m30\u001b[39m,\u001b[38;5;241m40\u001b[39m,\u001b[38;5;241m50\u001b[39m]\n",
      "\u001b[1;31mValueError\u001b[0m: list.remove(x): x not in list"
     ]
    }
   ],
   "source": [
    "#removing elemnt into list\n",
    "lst.remove(\"gulabinagri\")\n",
    "lst\n"
   ]
  },
  {
   "cell_type": "code",
   "execution_count": 31,
   "metadata": {},
   "outputs": [
    {
     "name": "stdout",
     "output_type": "stream",
     "text": [
      "[10, 30, 50, 'green']\n"
     ]
    }
   ],
   "source": [
    "z=[10,30,50,\"green\"]\n",
    "print(z)\n",
    "z.pop()\n",
    "z.pop(2)\n",
    "\n",
    "z.clear()"
   ]
  },
  {
   "cell_type": "code",
   "execution_count": null,
   "metadata": {},
   "outputs": [
    {
     "name": "stdout",
     "output_type": "stream",
     "text": [
      "[12.3, 34, 5, 6, 789, 7]\n",
      "[12.3, 34, 5, 6, 789, 7]\n",
      "[12.3, 34, 44, 6, 789, 7]\n"
     ]
    }
   ],
   "source": [
    "x=[12.3,34,5,6,789,7]\n",
    "print(x)\n",
    "x1=x.copy()\n",
    "print(x1)\n",
    "\n",
    "x.count(34)\n",
    "\n",
    "x[2]=44     #updating list\n",
    "print(x)"
   ]
  },
  {
   "cell_type": "code",
   "execution_count": null,
   "metadata": {},
   "outputs": [],
   "source": []
  },
  {
   "cell_type": "code",
   "execution_count": null,
   "metadata": {},
   "outputs": [],
   "source": []
  },
  {
   "cell_type": "code",
   "execution_count": null,
   "metadata": {},
   "outputs": [],
   "source": []
  },
  {
   "cell_type": "code",
   "execution_count": null,
   "metadata": {},
   "outputs": [],
   "source": []
  },
  {
   "cell_type": "code",
   "execution_count": null,
   "metadata": {},
   "outputs": [],
   "source": []
  },
  {
   "cell_type": "code",
   "execution_count": null,
   "metadata": {},
   "outputs": [],
   "source": []
  },
  {
   "cell_type": "code",
   "execution_count": null,
   "metadata": {},
   "outputs": [],
   "source": []
  }
 ],
 "metadata": {
  "kernelspec": {
   "display_name": "Python 3",
   "language": "python",
   "name": "python3"
  },
  "language_info": {
   "codemirror_mode": {
    "name": "ipython",
    "version": 3
   },
   "file_extension": ".py",
   "mimetype": "text/x-python",
   "name": "python",
   "nbconvert_exporter": "python",
   "pygments_lexer": "ipython3",
   "version": "3.13.1"
  }
 },
 "nbformat": 4,
 "nbformat_minor": 2
}
